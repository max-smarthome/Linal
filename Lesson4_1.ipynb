{
  "nbformat": 4,
  "nbformat_minor": 0,
  "metadata": {
    "colab": {
      "name": "Lesson4_1.ipynb",
      "provenance": [],
      "collapsed_sections": []
    },
    "kernelspec": {
      "name": "python3",
      "display_name": "Python 3"
    }
  },
  "cells": [
    {
      "cell_type": "markdown",
      "metadata": {
        "id": "qogkEd981BmE"
      },
      "source": [
        "__1.__ Решить систему уравнений методом Гаусса:\r\n",
        "\r\n",
        "$$\\begin{cases}\r\n",
        "x_{1}+x_{2}-x_{3}-2x_{4}=0, \\\\\r\n",
        "2x_{1}+x_{2}-x_{3}+x_{4}=-2, \\\\\r\n",
        "x_{1}+x_{2}-3x_{3}+x_{4}=4.\r\n",
        "\\end{cases}$$\r\n",
        "\r\n",
        "Запишем коэффициенты в матрицу и проведем преобразования над ней:\r\n",
        "$$\\begin{pmatrix}\r\n",
        "\\left.\\begin{matrix}\r\n",
        "1 & 1 & -1 &-2\\\\ \r\n",
        "2 & 1 & -1 & 1\\\\ \r\n",
        "1 & 1 & -3 & 1\r\n",
        "\\end{matrix}\\right|\r\n",
        "\\begin{matrix}\r\n",
        "0\\\\ \r\n",
        "-2\\\\\r\n",
        "4\r\n",
        "\\end{matrix}\r\n",
        "\\end{pmatrix}.$$\r\n",
        "Вычтем из второй строки первую умноженную на 2, а из третьей первую умноженную на 1, получим:\r\n",
        "\r\n",
        "$$\\begin{pmatrix}\r\n",
        "\\left.\\begin{matrix}\r\n",
        "1 & 1 & -1 &-2\\\\ \r\n",
        "0 & -1 & 1 & 5\\\\ \r\n",
        "0 & 0 & -2 & 3\r\n",
        "\\end{matrix}\\right|\r\n",
        "\\begin{matrix}\r\n",
        "0\\\\ \r\n",
        "-2\\\\\r\n",
        "4\r\n",
        "\\end{matrix}\r\n",
        "\\end{pmatrix}.$$\r\n",
        "\r\n",
        "Примем, что $x_{4} = c$, и применим обратный ход, тогда получим:\r\n",
        "$$\\begin{cases}\r\n",
        "x_{1}=-3c - 2, \\\\\r\n",
        "x_{2}=6.5c, \\\\\r\n",
        "x_{3} = 1.5c - 2 \\\\\r\n",
        "x_{4}=c\r\n",
        "\\end{cases}$$\r\n",
        "Если, возьмем c = 2, то наше решение будет вектор (-8, 13, 1, 2)"
      ]
    },
    {
      "cell_type": "code",
      "metadata": {
        "id": "_mJwaWiNiqG9"
      },
      "source": [
        "import numpy as np\r\n"
      ],
      "execution_count": 3,
      "outputs": []
    },
    {
      "cell_type": "markdown",
      "metadata": {
        "id": "OF5s5eUx1BwJ"
      },
      "source": [
        "__2.__ Проверить на совместность и выяснить, сколько решений будет иметь система линейных уравнений:\r\n",
        "\r\n",
        "   а) $\\begin{cases}\r\n",
        "3x_{1}-x_{2}+x_{3}=4, \\\\\r\n",
        "2x_{1}-5x_{2}-3x_{3}=-17, \\\\\r\n",
        "x_{1}+x_{2}-x_{3}=0;\r\n",
        "\\end{cases}$\r\n",
        "    \r\n",
        "   б) $\\begin{cases}\r\n",
        "2x_{1}-4x_{2}+6x_{3}=1, \\\\\r\n",
        "x_{1}-2x_{2}+3x_{3}=-2, \\\\\r\n",
        "3x_{1}-6x_{2}+9x_{3}=5;\r\n",
        "\\end{cases}$\r\n",
        "    \r\n",
        "   в) $\\begin{cases}\r\n",
        "x_{1}+2x_{2}+5x_{3}=4, \\\\\r\n",
        "3x_{1}+x_{2}-8x_{3}=-2. \r\n",
        "\\end{cases}$\r\n"
      ]
    },
    {
      "cell_type": "code",
      "metadata": {
        "colab": {
          "base_uri": "https://localhost:8080/"
        },
        "id": "sdTRXE4hh04y",
        "outputId": "714abf8e-308e-44e6-b9d9-2c0e7fd7850e"
      },
      "source": [
        "# для того, чтобы выяснить совместность и количество решений, надо посчитать ранг матрицы коэффициентов и расширенной матрицы и сравнить их, напишем функцию для этого:\r\n",
        "def res(a, a_b):\r\n",
        "  if np.linalg.matrix_rank(a) < np.linalg.matrix_rank(a_b):\r\n",
        "    return 'система несовместна'\r\n",
        "  elif np.linalg.matrix_rank(a) == np.linalg.matrix_rank(a_b) and np.linalg.matrix_rank(a) == len(a[1]):\r\n",
        "    return 'система имеет единственное решение'\r\n",
        "  else :\r\n",
        "    return 'бесконечное число решений'\r\n",
        "\r\n",
        "#a)\r\n",
        "a_koeff = np.array([[3,-1,1], [2,-5,-3], [1,1,-1]])\r\n",
        "a_big = np.array([[3,-1,1,4], [2,-5,-3,-17], [1,1,-1,0]])\r\n",
        "print(res(a_koeff, a_big))\r\n",
        "#б)\r\n",
        "a_koeff = np.array([[2,-4,6], [1,-2,3], [3,-6,9]])\r\n",
        "a_big = np.array([[2,-4,6,1], [1,-2,3,-2], [3,-6,9,5]])\r\n",
        "print(res(a_koeff, a_big))\r\n",
        "#в)\r\n",
        "a_koeff = np.array([[1,2,5], [3,1,-8]])\r\n",
        "a_big = np.array([[1,2,5,4], [3,1,-8,-2]])\r\n",
        "print(res(a_koeff, a_big))"
      ],
      "execution_count": 12,
      "outputs": [
        {
          "output_type": "stream",
          "text": [
            "система имеет единственное решение\n",
            "система несовместна\n",
            "бесконечное число решений\n"
          ],
          "name": "stdout"
        }
      ]
    },
    {
      "cell_type": "markdown",
      "metadata": {
        "id": "dDJJax5K1B9E"
      },
      "source": [
        "__3.__ Проверить на совместность и выяснить, сколько решений будет иметь система линейных уравнений, заданная расширенной матрицей\r\n",
        "\r\n",
        "$$\\tilde{A}=\\begin{pmatrix}\r\n",
        "\\left.\\begin{matrix}\r\n",
        "1 & 3 & -2 & 4\\\\ \r\n",
        "0 & 5 & 0 & 1\\\\ \r\n",
        "0 & 0 & 3 & 0\\\\ \r\n",
        "0 & 0 & 0 & 2\r\n",
        "\\end{matrix}\\right|\r\n",
        "\\begin{matrix}\r\n",
        "3\\\\ \r\n",
        "2\\\\\r\n",
        "4\\\\\r\n",
        "1\r\n",
        "\\end{matrix}\r\n",
        "\\end{pmatrix}.$$\r\n",
        "\r\n",
        "Данная матрица уже диагональная и $rank A = rank \\tilde A = 4$, значит система будет иметь единственное решение "
      ]
    },
    {
      "cell_type": "markdown",
      "metadata": {
        "id": "jxvVGjd71CUz"
      },
      "source": [
        "__4.__ Дана система линейных уравнений, заданная расширенной матрицей\r\n",
        "\r\n",
        "$$\\tilde{A}=\\begin{pmatrix}\r\n",
        "\\left.\\begin{matrix}\r\n",
        "1 & 2 & 3\\\\ \r\n",
        "4 & 5 & 6\\\\ \r\n",
        "7 & 8 & 9\r\n",
        "\\end{matrix}\\right|\r\n",
        "\\begin{matrix}\r\n",
        "a\\\\ \r\n",
        "b\\\\\r\n",
        "c\r\n",
        "\\end{matrix}\r\n",
        "\\end{pmatrix}.$$\r\n",
        "\r\n",
        "Найти соотношение между параметрами $a$, $b$ и $c$, при которых система является несовместной.\r\n",
        "\r\n",
        "Выполним простейшие преобразования над матрией(вычтем  из второй первую строку умноженную на 4, а из третьей первую, умноженную на 7, после чего из третье строки вычтем вторую умноженную на 2) и получим\r\n",
        "$$\\begin{pmatrix}\r\n",
        "\\left.\\begin{matrix}\r\n",
        "1 & 2 & 3\\\\ \r\n",
        "0 & -3 & -6\\\\ \r\n",
        "0 & 0 & 0\r\n",
        "\\end{matrix}\\right|\r\n",
        "\\begin{matrix}\r\n",
        "a\\\\ \r\n",
        "b-4a\\\\\r\n",
        "c +a -2b\r\n",
        "\\end{matrix}\r\n",
        "\\end{pmatrix}.$$\r\n",
        "Данная система несовместна, если $c + a -2b = 0.$ Решений бесконечно много, например $(a,b,c) = (1,1,1) $"
      ]
    }
  ]
}