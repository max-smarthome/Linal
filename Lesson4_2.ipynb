{
  "nbformat": 4,
  "nbformat_minor": 0,
  "metadata": {
    "colab": {
      "name": "Lesson4_2.ipynb",
      "provenance": [],
      "collapsed_sections": []
    },
    "kernelspec": {
      "name": "python3",
      "display_name": "Python 3"
    }
  },
  "cells": [
    {
      "cell_type": "markdown",
      "metadata": {
        "id": "BVuGp6FaqXvu"
      },
      "source": [
        "__1.__ Решить систему уравнений методом Крамера:\r\n",
        "\r\n",
        "   а) $\\begin{cases}\r\n",
        "x_{1}-2x_{2}=1 \\\\\r\n",
        "3x_{1}-4x_{2}=7\r\n",
        "\\end{cases}$\r\n",
        "\r\n",
        "$$A = \\begin{pmatrix}\r\n",
        "1 & -2 \\\\ \r\n",
        "3 & -4\r\n",
        "\\end{pmatrix}.$$\r\n",
        "$$detA=2$$\r\n",
        "$$A_{1} = \\begin{vmatrix}\r\n",
        "1 & -2 \\\\ \r\n",
        "7 & -4\r\n",
        "\\end{vmatrix} = 10$$\r\n",
        "$$A_{2} = \\begin{vmatrix}\r\n",
        "1 & 1 \\\\ \r\n",
        "3 & 7\r\n",
        "\\end{vmatrix} = 4$$\r\n",
        " $$x_{1} = \\frac{detA_{1}}{detA} = \\frac{10}{2}=5,$$\r\n",
        "$$x_{2} = \\frac{detA_{2}}{detA} = \\frac{4}{2}=2,$$   \r\n",
        "   б) $\\begin{cases}\r\n",
        "2x_{1}-x_{2}+5x_{3}=10 \\\\\r\n",
        "x_{1}+x_{2}-3x_{3}=-2 \\\\\r\n",
        "2x_{1}+4x_{2}+x_{3}=1\r\n",
        "\\end{cases}$\r\n",
        "\r\n",
        "$$detA=2 + 6 +20 -10 +1 +24 = 43$$\r\n",
        "$$A_{1} = \\begin{vmatrix}\r\n",
        "10 & -1 & 5\\\\ \r\n",
        "-2 & 1 & -3\\\\\r\n",
        "1  & 4 & 1\r\n",
        "\\end{vmatrix} = 10 + 3 - 40 -5 -2 +120 = 86$$\r\n",
        "$$A_{2} = \\begin{vmatrix}\r\n",
        "2 & 10 & 5\\\\ \r\n",
        "1 & -2 & -3\\\\\r\n",
        "2  & 1 & 1\r\n",
        "\\end{vmatrix} = -4 + 5 - 60 +20 -10 +6 = -43$$\r\n",
        "$$A_{2} = \\begin{vmatrix}\r\n",
        "2 & -1 & 10\\\\ \r\n",
        "1 & 1 & -2\\\\\r\n",
        "2  & 4 & 1\r\n",
        "\\end{vmatrix} = 2 + 40 +4 - 20 +16 +1 = 43$$\r\n",
        "$$x_{1} = \\frac{detA_{1}}{detA} = \\frac{86}{43}=2,$$\r\n",
        "$$x_{2} = \\frac{detA_{2}}{detA} = \\frac{-43}{43}=-1,$$\r\n",
        "$$x_{3} = \\frac{detA_{3}}{detA} = \\frac{43}{43}=1,$$"
      ]
    },
    {
      "cell_type": "code",
      "metadata": {
        "colab": {
          "base_uri": "https://localhost:8080/"
        },
        "id": "VSXXFvPIlVU2",
        "outputId": "a57fb278-d27f-4b15-8089-30c81df8e90b"
      },
      "source": [
        "import numpy as np\r\n",
        "import scipy.linalg\r\n",
        "\r\n",
        "\r\n",
        "#a)\r\n",
        "a = np.array([[1,-2],[3,-4]])\r\n",
        "b = np.array([1,7])\r\n",
        "\r\n",
        "print('Пункт а)')\r\n",
        "print ('Решение:')\r\n",
        "print(f'x = {scipy.linalg.solve(a,b)}')\r\n",
        "\r\n",
        "#б)\r\n",
        "print('Пункт б)')\r\n",
        "a = np.array([[2,-1, 5],[1,1,-3],[2,4,1]])\r\n",
        "b = np.array([10, -2, 1])\r\n",
        "a1 = np.column_stack([b, a[:,1:]])\r\n",
        "a2 = np.column_stack([a[:,0], b, a[:,2]])\r\n",
        "a3 = np.column_stack([a[:,0:2], b])\r\n",
        "det_a = np.linalg.det(a)\r\n",
        "print(f'Определитель A:\\n{det_a:.0f}')\r\n",
        "det_a1 = np.linalg.det(a1)\r\n",
        "print(f'Определитель A1:\\n{det_a1:.0f}')\r\n",
        "det_a2 = np.linalg.det(a2)\r\n",
        "print(f'Определитель A2:\\n{det_a2:.0f}')\r\n",
        "det_a3 = np.linalg.det(a3)\r\n",
        "print(f'Определитель A3:\\n{det_a3:.0f}')\r\n",
        "print('Ответ:')\r\n",
        "print(f'x1 = {det_a1/det_a:.0f}')\r\n",
        "print(f'x2 = {det_a2/det_a:.0f}')\r\n",
        "print(f'x3 = {det_a3/det_a:.0f}')\r\n",
        "\r\n",
        "print(f'Решение: x = {scipy.linalg.solve(a,b)}')"
      ],
      "execution_count": 8,
      "outputs": [
        {
          "output_type": "stream",
          "text": [
            "Пункт а)\n",
            "Решение:\n",
            "x = [5. 2.]\n",
            "Пункт б)\n",
            "Определитель A:\n",
            "43\n",
            "Определитель A1:\n",
            "86\n",
            "Определитель A2:\n",
            "-43\n",
            "Определитель A3:\n",
            "43\n",
            "Ответ:\n",
            "x1 = 2\n",
            "x2 = -1\n",
            "x3 = 1\n",
            "Решение: x = [ 2. -1.  1.]\n"
          ],
          "name": "stdout"
        }
      ]
    },
    {
      "cell_type": "markdown",
      "metadata": {
        "id": "ItF2luHGqi8e"
      },
      "source": [
        "\r\n",
        "__2*.__ Найти $L$-матрицу $LU$-разложения для матрицы коэффициентов:\r\n",
        "\r\n",
        "   а)$$\\begin{pmatrix}\r\n",
        "1 & 2 & 4 \\\\ \r\n",
        "2 & 9 & 12 \\\\ \r\n",
        "3 & 26 & 30\r\n",
        "\\end{pmatrix}$$\r\n",
        "Умножим первую строку на 2 и вычтем из второй, затем умножим первую строку на 3 и вычтем из третьей, тогда $l_{21} = 2,l_{31} = 3$. После этого вторую строку умножим на 4 и вычтем из третьей, тогда элемент  l_{32} = 4. Тогда:\r\n",
        "$$U = \\begin{pmatrix}\r\n",
        "1 & 2 & 4 \\\\ \r\n",
        "0 & 5 & 4\\\\ \r\n",
        "0 & 0& 2\r\n",
        "\\end{pmatrix}$$\r\n",
        "$$L = \\begin{pmatrix}\r\n",
        "1 & 0 & 0 \\\\ \r\n",
        "2 & 1 & 0\\\\ \r\n",
        "3 & 4 & 1\r\n",
        "\\end{pmatrix}$$\r\n",
        "   б)$$\\begin{pmatrix}\r\n",
        "1 & 1 & 2 & 4\\\\ \r\n",
        "2 & 5 & 8 & 9\\\\ \r\n",
        "3 & 18 & 29 & 18\\\\\r\n",
        "4 & 22 & 53 & 33\r\n",
        "\\end{pmatrix}$$\r\n",
        "Умножим первую строку на 2 и вычтем из второй, затем умножим первую строку на 3 и вычтем из третьей, и умножим первую строку на 4 и вычтем из четвертой, тогда $l_{21} = 2,l_{31} = 3,l_{41} = 4$. Умножим вторую строку на 5 и вычтем из третьей, затем умножим вторую строку на 6 и вычтем из четвертой,м тогда  l_{32} = 5, l_{42} = 6. Наконец, умножим третью строку на 7 и вычтем из четвертой, тогда l_{43} = 7. Отсюда:\r\n",
        "\r\n",
        "$$U = \\begin{pmatrix}\r\n",
        "1 & 1 & 2 & 4 \\\\ \r\n",
        "0 & 3 & 4 & 1\\\\ \r\n",
        "0 & 0 & 3 & 1 \\\\\r\n",
        "0 & 0 & 0 & 4 \r\n",
        "\\end{pmatrix}$$\r\n",
        "$$L = \\begin{pmatrix}\r\n",
        "1 & 0 & 0 & 0\\\\ \r\n",
        "2 & 1 & 0 & 0\\\\ \r\n",
        "3 & 5 & 1 & 0\\\\\r\n",
        "4 & 6 & 7 & 1\\\\\r\n",
        "\\end{pmatrix}$$\r\n"
      ]
    },
    {
      "cell_type": "markdown",
      "metadata": {
        "id": "QuGJuo5fr7V8"
      },
      "source": [
        "\r\n"
      ]
    }
  ]
}