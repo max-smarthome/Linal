{
  "nbformat": 4,
  "nbformat_minor": 0,
  "metadata": {
    "colab": {
      "name": "Lesson4_2.ipynb",
      "provenance": [],
      "collapsed_sections": []
    },
    "kernelspec": {
      "name": "python3",
      "display_name": "Python 3"
    }
  },
  "cells": [
    {
      "cell_type": "markdown",
      "metadata": {
        "id": "BVuGp6FaqXvu"
      },
      "source": [
        "__1.__ Решить систему уравнений методом Крамера:\r\n",
        "\r\n",
        "   а) $\\begin{cases}\r\n",
        "x_{1}-2x_{2}=1 \\\\\r\n",
        "3x_{1}-4x_{2}=7\r\n",
        "\\end{cases}$\r\n",
        "\r\n",
        "$$A = \\begin{pmatrix}\r\n",
        "1 & 2 \\\\ \r\n",
        "3 & -4\r\n",
        "\\end{pmatrix}.$$\r\n",
        "$$detA=-10$$\r\n",
        "$$A_{1} = \\begin{vmatrix}\r\n",
        "1 & 2 \\\\ \r\n",
        "7 & -4\r\n",
        "\\end{vmatrix} = -18$$\r\n",
        "$$A_{2} = \\begin{vmatrix}\r\n",
        "1 & 1 \\\\ \r\n",
        "3 & 7\r\n",
        "\\end{vmatrix} = 4$$\r\n",
        " $$x_{1} = \\frac{detA_{1}}{detA} = \\frac{-18}{-10}=4.5,$$\r\n",
        "$$x_{2} = \\frac{detA_{2}}{detA} = \\frac{4}{-10}=-0.4,$$   \r\n",
        "   б) $\\begin{cases}\r\n",
        "2x_{1}-x_{2}+5x_{3}=10 \\\\\r\n",
        "x_{1}+x_{2}-3x_{3}=-2 \\\\\r\n",
        "2x_{1}+4x_{2}+x_{3}=1\r\n",
        "\\end{cases}$"
      ]
    },
    {
      "cell_type": "code",
      "metadata": {
        "colab": {
          "base_uri": "https://localhost:8080/"
        },
        "id": "srao9oz_tE3E",
        "outputId": "ff164138-8943-4422-98e1-189d3c945816"
      },
      "source": [
        "import numpy as np\r\n",
        "\r\n",
        "det_a = np.linalg.det(np.array([[2,-1, 5],[1,1,-3],[2,4,1]]))\r\n",
        "print(f'Определитель A:\\n{det_a:.0f}')\r\n",
        "det_a1 = np.linalg.det(np.array([[10,-1, 5],[-2,1,-3],[1,4,1]]))\r\n",
        "print(f'Определитель A1:\\n{det_a1:.0f}')\r\n",
        "det_a2 = np.linalg.det(np.array([[2,10, 5],[1,-2,-3],[2,1,1]]))\r\n",
        "print(f'Определитель A2:\\n{det_a2:.0f}')\r\n",
        "det_a3 = np.linalg.det(np.array([[2,-1, 10],[1,1,-2],[2,4,1]]))\r\n",
        "print(f'Определитель A3:\\n{det_a3:.0f}')\r\n",
        "print('Ответ:')\r\n",
        "print(f'x1 = {det_a1/det_a:.0f}')\r\n",
        "print(f'x2 = {det_a2/det_a:.0f}')\r\n",
        "print(f'x3 = {det_a3/det_a:.0f}')"
      ],
      "execution_count": null,
      "outputs": [
        {
          "output_type": "stream",
          "text": [
            "Определитель A:\n",
            "43\n",
            "Определитель A1:\n",
            "86\n",
            "Определитель A2:\n",
            "-43\n",
            "Определитель A3:\n",
            "43\n",
            "Ответ:\n",
            "x1 = 2\n",
            "x2 = -1\n",
            "x3 = 1\n"
          ],
          "name": "stdout"
        }
      ]
    },
    {
      "cell_type": "markdown",
      "metadata": {
        "id": "ItF2luHGqi8e"
      },
      "source": [
        "\r\n",
        "__2*.__ Найти $L$-матрицу $LU$-разложения для матрицы коэффициентов:\r\n",
        "\r\n",
        "   а)$$\\begin{pmatrix}\r\n",
        "1 & 2 & 4 \\\\ \r\n",
        "2 & 9 & 12 \\\\ \r\n",
        "3 & 26 & 30\r\n",
        "\\end{pmatrix}$$\r\n",
        "Умножим первую строку на 2 и вычтем из второй, затем умножим первую строку на 3 и вычтем из третьей, тогда $l_{21} = 2,l_{31} = 3$. После этого вторую строку цмножим на 0.2 и сложим с третьей, тогда элемент  l_{32} = -0.2. Тогда:\r\n",
        "$$U = \\begin{pmatrix}\r\n",
        "1 & 2 & 4 \\\\ \r\n",
        "0 & 5 & 4\\\\ \r\n",
        "0 & 0& 6.8\r\n",
        "\\end{pmatrix}$$\r\n",
        "$$L = \\begin{pmatrix}\r\n",
        "1 & 0 & 0 \\\\ \r\n",
        "2 & 1 & 0\\\\ \r\n",
        "3 & -0.2& 1\r\n",
        "\\end{pmatrix}$$\r\n",
        "   б)$$\\begin{pmatrix}\r\n",
        "1 & 1 & 2 & 4\\\\ \r\n",
        "2 & 5 & 8 & 9\\\\ \r\n",
        "3 & 18 & 29 & 18\\\\\r\n",
        "4 & 22 & 53 & 33\r\n",
        "\\end{pmatrix}$$"
      ]
    }
  ]
}